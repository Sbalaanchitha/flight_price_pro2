{
 "cells": [
  {
   "cell_type": "code",
   "execution_count": 6,
   "id": "1dd462e0",
   "metadata": {},
   "outputs": [
    {
     "name": "stderr",
     "output_type": "stream",
     "text": [
      "C:\\Users\\anchitha\\AppData\\Local\\Temp\\ipykernel_15384\\1374260166.py:10: UserWarning: Parsing dates in %d/%m/%Y format when dayfirst=False (the default) was specified. Pass `dayfirst=True` or specify a format to silence this warning.\n",
      "  df['Journey_day'] = pd.to_datetime(df['Date_of_Journey'], errors='coerce').dt.day\n",
      "C:\\Users\\anchitha\\AppData\\Local\\Temp\\ipykernel_15384\\1374260166.py:11: UserWarning: Parsing dates in %d/%m/%Y format when dayfirst=False (the default) was specified. Pass `dayfirst=True` or specify a format to silence this warning.\n",
      "  df['Journey_month'] = pd.to_datetime(df['Date_of_Journey'], errors='coerce').dt.month\n",
      "C:\\Users\\anchitha\\AppData\\Local\\Temp\\ipykernel_15384\\1374260166.py:15: UserWarning: Could not infer format, so each element will be parsed individually, falling back to `dateutil`. To ensure parsing is consistent and as-expected, please specify a format.\n",
      "  df['Dep_hour'] = pd.to_datetime(df['Dep_Time']).dt.hour\n",
      "C:\\Users\\anchitha\\AppData\\Local\\Temp\\ipykernel_15384\\1374260166.py:16: UserWarning: Could not infer format, so each element will be parsed individually, falling back to `dateutil`. To ensure parsing is consistent and as-expected, please specify a format.\n",
      "  df['Dep_min'] = pd.to_datetime(df['Dep_Time']).dt.minute\n",
      "C:\\Users\\anchitha\\AppData\\Local\\Temp\\ipykernel_15384\\1374260166.py:20: UserWarning: Could not infer format, so each element will be parsed individually, falling back to `dateutil`. To ensure parsing is consistent and as-expected, please specify a format.\n",
      "  df['Arrival_hour'] = pd.to_datetime(df['Arrival_Time']).dt.hour\n",
      "C:\\Users\\anchitha\\AppData\\Local\\Temp\\ipykernel_15384\\1374260166.py:21: UserWarning: Could not infer format, so each element will be parsed individually, falling back to `dateutil`. To ensure parsing is consistent and as-expected, please specify a format.\n",
      "  df['Arrival_min'] = pd.to_datetime(df['Arrival_Time']).dt.minute\n"
     ]
    },
    {
     "name": "stdout",
     "output_type": "stream",
     "text": [
      "✅ Preprocessing Complete. Final shape: (5999, 29)\n",
      "📊 Final Columns: ['Duration', 'Total_Stops', 'Price', 'Journey_day', 'Journey_month', 'Dep_hour', 'Dep_min', 'Arrival_hour', 'Arrival_min', 'Airline_Air India', 'Airline_GoAir', 'Airline_IndiGo', 'Airline_Jet Airways', 'Airline_Jet Airways Business', 'Airline_Multiple carriers', 'Airline_Multiple carriers Premium economy', 'Airline_SpiceJet', 'Airline_Trujet', 'Airline_Vistara', 'Airline_Vistara Premium economy', 'Source_Chennai', 'Source_Delhi', 'Source_Kolkata', 'Source_Mumbai', 'Destination_Cochin', 'Destination_Delhi', 'Destination_Hyderabad', 'Destination_Kolkata', 'Destination_New Delhi']\n"
     ]
    }
   ],
   "source": [
    "# preprocess_data.ipynb\n",
    "\n",
    "import pandas as pd\n",
    "import numpy as np\n",
    "\n",
    "# ✅ 1. Load tab-separated data\n",
    "df = pd.read_csv('../Data/raw.csv', sep='\\t')\n",
    "\n",
    "# ✅ 2. Date of Journey → Day & Month\n",
    "df['Journey_day'] = pd.to_datetime(df['Date_of_Journey'], errors='coerce').dt.day\n",
    "df['Journey_month'] = pd.to_datetime(df['Date_of_Journey'], errors='coerce').dt.month\n",
    "df.drop('Date_of_Journey', axis=1, inplace=True)\n",
    "\n",
    "# ✅ 3. Departure Time → Hour & Minute\n",
    "df['Dep_hour'] = pd.to_datetime(df['Dep_Time']).dt.hour\n",
    "df['Dep_min'] = pd.to_datetime(df['Dep_Time']).dt.minute\n",
    "df.drop('Dep_Time', axis=1, inplace=True)\n",
    "\n",
    "# ✅ 4. Arrival Time → Hour & Minute\n",
    "df['Arrival_hour'] = pd.to_datetime(df['Arrival_Time']).dt.hour\n",
    "df['Arrival_min'] = pd.to_datetime(df['Arrival_Time']).dt.minute\n",
    "df.drop('Arrival_Time', axis=1, inplace=True)\n",
    "\n",
    "# ✅ 5. Duration → Total minutes\n",
    "def convert_to_minutes(duration):\n",
    "    duration = duration.strip().lower().replace('h', ' hours').replace('m', ' minutes')\n",
    "    if 'hours' not in duration:\n",
    "        duration = '0 hours ' + duration\n",
    "    if 'minutes' not in duration:\n",
    "        duration = duration + ' 0 minutes'\n",
    "    parts = duration.replace('hours', '').replace('minutes', '').split()\n",
    "    return int(parts[0]) * 60 + int(parts[1])\n",
    "\n",
    "df['Duration'] = df['Duration'].apply(convert_to_minutes)\n",
    "\n",
    "# ✅ 6. Total Stops → Numeric\n",
    "stop_map = {'non-stop': 0, '1 stop': 1, '2 stops': 2, '3 stops': 3, '4 stops': 4}\n",
    "df['Total_Stops'] = df['Total_Stops'].map(stop_map)\n",
    "\n",
    "# ✅ 7. Drop columns not needed\n",
    "df.drop(['Route', 'Additional_Info'], axis=1, inplace=True)\n",
    "\n",
    "# ✅ 8. One-hot encode categorical columns\n",
    "df = pd.get_dummies(df, columns=['Airline', 'Source', 'Destination'], drop_first=True)\n",
    "\n",
    "# ✅ 9. Save cleaned data\n",
    "df.to_csv('../Data/processed_data.csv', index=False)\n",
    "\n",
    "# ✅ 10. Final Check\n",
    "print(\"✅ Preprocessing Complete. Final shape:\", df.shape)\n",
    "print(\"📊 Final Columns:\", df.columns.tolist())\n"
   ]
  },
  {
   "cell_type": "code",
   "execution_count": 5,
   "id": "c242f721",
   "metadata": {},
   "outputs": [
    {
     "name": "stdout",
     "output_type": "stream",
     "text": [
      "['Airline\\tDate_of_Journey\\tSource\\tDestination\\tRoute\\tDep_Time\\tArrival_Time\\tDuration\\tTotal_Stops\\tAdditional_Info\\tPrice']\n"
     ]
    }
   ],
   "source": [
    "print(df.columns.tolist())\n"
   ]
  }
 ],
 "metadata": {
  "kernelspec": {
   "display_name": "flight_env",
   "language": "python",
   "name": "python3"
  },
  "language_info": {
   "codemirror_mode": {
    "name": "ipython",
    "version": 3
   },
   "file_extension": ".py",
   "mimetype": "text/x-python",
   "name": "python",
   "nbconvert_exporter": "python",
   "pygments_lexer": "ipython3",
   "version": "3.10.18"
  }
 },
 "nbformat": 4,
 "nbformat_minor": 5
}
